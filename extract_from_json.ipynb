{
 "cells": [
  {
   "cell_type": "code",
   "execution_count": 1,
   "metadata": {},
   "outputs": [
    {
     "name": "stdout",
     "output_type": "stream",
     "text": [
      "\n",
      "\n",
      "Relation between the scene are: \n",
      "\n",
      "[[0, 1], 'left']\n",
      "\n",
      "\n",
      "Relation of objects in each scene: \n",
      "\n",
      "[[['in'], {'y_loc': 64, 'size': 10, 'type': 'triangle', 'x_loc': 47, 'color': '#0099ff'}], [['touching the bottom edge of', 'touching the right edge of ', 'in'], {'y_loc': 70, 'size': 30, 'type': 'square', 'x_loc': 70, 'color': 'Black'}], [['touching the bottom edge of', 'in'], {'y_loc': 80, 'size': 20, 'type': 'triangle', 'x_loc': 7, 'color': 'Yellow'}]]\n",
      "[[['touching the bottom edge of', 'in'], {'y_loc': 80, 'size': 20, 'type': 'circle', 'x_loc': 11, 'color': 'Yellow'}], [['in'], {'y_loc': 22, 'size': 30, 'type': 'square', 'x_loc': 6, 'color': '#0099ff'}], [['touching the right edge of ', 'at bottom of', 'in'], {'y_loc': 74, 'size': 20, 'type': 'square', 'x_loc': 80, 'color': 'Yellow'}]]\n",
      "\n",
      "\n",
      "Relation between objects: \n",
      "\n",
      "[[[1, 0], ['near to']]]\n",
      "[[[0, 1], ['right']], [[1, 0], ['above']], [[1, 2], ['left', 'above']], [[2, 0], ['right', 'above']]]\n"
     ]
    }
   ],
   "source": [
    "import json\n",
    "import random\n",
    "from Random_choice import random_choice\n",
    "\n",
    "\n",
    "data = [json.loads(line) for line in open('../Json_Files/trainNLVR.json', 'r')]\n",
    "story = data[57]\n",
    "\n",
    "scn_rels, scn_objs, objs_rels = random_choice(story)\n"
   ]
  }
 ],
 "metadata": {
  "kernelspec": {
   "display_name": "Python 3",
   "language": "python",
   "name": "python3"
  },
  "language_info": {
   "codemirror_mode": {
    "name": "ipython",
    "version": 3
   },
   "file_extension": ".py",
   "mimetype": "text/x-python",
   "name": "python",
   "nbconvert_exporter": "python",
   "pygments_lexer": "ipython3",
   "version": "3.7.4"
  }
 },
 "nbformat": 4,
 "nbformat_minor": 4
}
